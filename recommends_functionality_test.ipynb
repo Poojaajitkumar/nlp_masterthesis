{
 "cells": [
  {
   "cell_type": "code",
   "execution_count": 84,
   "metadata": {},
   "outputs": [],
   "source": [
    "%store -r QA1_Data"
   ]
  },
  {
   "cell_type": "code",
   "execution_count": 85,
   "metadata": {},
   "outputs": [],
   "source": [
    "%store -r QA2_Data"
   ]
  },
  {
   "cell_type": "code",
   "execution_count": 86,
   "metadata": {},
   "outputs": [],
   "source": [
    "%store -r QA3_Data"
   ]
  },
  {
   "cell_type": "code",
   "execution_count": 87,
   "metadata": {},
   "outputs": [
    {
     "data": {
      "text/plain": [
       "28"
      ]
     },
     "execution_count": 87,
     "metadata": {},
     "output_type": "execute_result"
    }
   ],
   "source": [
    "len(QA1_Data)"
   ]
  },
  {
   "cell_type": "code",
   "execution_count": 88,
   "metadata": {},
   "outputs": [
    {
     "data": {
      "text/plain": [
       "28"
      ]
     },
     "execution_count": 88,
     "metadata": {},
     "output_type": "execute_result"
    }
   ],
   "source": [
    "len(QA2_Data)"
   ]
  },
  {
   "cell_type": "code",
   "execution_count": 89,
   "metadata": {},
   "outputs": [
    {
     "data": {
      "text/plain": [
       "28"
      ]
     },
     "execution_count": 89,
     "metadata": {},
     "output_type": "execute_result"
    }
   ],
   "source": [
    "len(QA3_Data)"
   ]
  },
  {
   "cell_type": "code",
   "execution_count": 90,
   "metadata": {},
   "outputs": [],
   "source": [
    "def termFrequency(data, section):\n",
    "    if(section == 'introduction'):\n",
    "        keywords = ['aim', 'objective', 'motivation', 'objectives', 'goal']\n",
    "    elif(section == 'methods'):\n",
    "        keywords = ['methods', 'methodology', 'research methodology', 'approach', 'techniques']\n",
    "    elif(section == 'conclusion'):\n",
    "        keywords = ['conclusions', 'discussions', 'justifications', 'summary', ]\n",
    "    count = 0\n",
    "    for i in range(len(data)):\n",
    "        doc_wordList = []\n",
    "        wordfreq  = []\n",
    "        selected_words = []\n",
    "        ignore_words = []     \n",
    "        count = count + 1\n",
    "        doc = data[i]\n",
    "        for line in doc:\n",
    "            #print(line)\n",
    "            wordlist = line.split()\n",
    "            for w in wordlist:\n",
    "                if w in keywords:\n",
    "                    wordfreq.append(wordlist.count(w)) #frequency of each word\n",
    "                    selected_words.append(w)\n",
    "                else:\n",
    "                    ignore_words.append(w)     \n",
    "        if(len(selected_words) > 2 ):\n",
    "            #print(count)\n",
    "            print(\"The tool totally recommends document \" , count )  \n",
    "            print(selected_words)\n",
    "        elif(len(selected_words) >= 1) and (len(selected_words) <= 2):\n",
    "            print(\"The tool partially recommends document\", count)\n",
    "            print(selected_words)\n",
    "        else:\n",
    "            print(\"The tool does not recommend document \" , count)\n",
    "            print(selected_words)\n",
    "            "
   ]
  },
  {
   "cell_type": "code",
   "execution_count": 91,
   "metadata": {},
   "outputs": [
    {
     "name": "stdout",
     "output_type": "stream",
     "text": [
      "The tool partially recommends document 1\n",
      "['objective']\n",
      "The tool does not recommend document  2\n",
      "[]\n",
      "The tool does not recommend document  3\n",
      "[]\n",
      "The tool does not recommend document  4\n",
      "[]\n",
      "The tool totally recommends document  5\n",
      "['motivation', 'motivation', 'objective', 'objective']\n",
      "The tool does not recommend document  6\n",
      "[]\n",
      "The tool partially recommends document 7\n",
      "['objective']\n",
      "The tool partially recommends document 8\n",
      "['objective']\n",
      "The tool totally recommends document  9\n",
      "['aim', 'aim', 'objective']\n",
      "The tool does not recommend document  10\n",
      "[]\n",
      "The tool does not recommend document  11\n",
      "[]\n",
      "The tool does not recommend document  12\n",
      "[]\n",
      "The tool totally recommends document  13\n",
      "['aim', 'aim', 'aim', 'aim']\n",
      "The tool partially recommends document 14\n",
      "['goal']\n",
      "The tool totally recommends document  15\n",
      "['objective', 'aim', 'objective', 'objective', 'aim', 'objective', 'aim', 'goal']\n",
      "The tool partially recommends document 16\n",
      "['objective', 'objective']\n",
      "The tool partially recommends document 17\n",
      "['aim']\n",
      "The tool does not recommend document  18\n",
      "[]\n",
      "The tool does not recommend document  19\n",
      "[]\n",
      "The tool does not recommend document  20\n",
      "[]\n",
      "The tool does not recommend document  21\n",
      "[]\n",
      "The tool totally recommends document  22\n",
      "['aim', 'aim', 'objective', 'objective', 'objective', 'objective']\n",
      "The tool does not recommend document  23\n",
      "[]\n",
      "The tool totally recommends document  24\n",
      "['motivation', 'objective', 'objective', 'objective']\n",
      "The tool partially recommends document 25\n",
      "['aim']\n",
      "The tool does not recommend document  26\n",
      "[]\n",
      "The tool partially recommends document 27\n",
      "['objective']\n",
      "The tool does not recommend document  28\n",
      "[]\n"
     ]
    }
   ],
   "source": [
    "section = 'introduction'\n",
    "result = termFrequency(QA1_Data, section)"
   ]
  },
  {
   "cell_type": "code",
   "execution_count": 92,
   "metadata": {},
   "outputs": [
    {
     "name": "stdout",
     "output_type": "stream",
     "text": [
      "The tool partially recommends document 1\n",
      "['methodology']\n",
      "The tool partially recommends document 2\n",
      "['approach']\n",
      "The tool partially recommends document 3\n",
      "['methods', 'methods']\n",
      "The tool does not recommend document  4\n",
      "[]\n",
      "The tool partially recommends document 5\n",
      "['methodology', 'methodology']\n",
      "The tool totally recommends document  6\n",
      "['methods', 'methodology', 'methods', 'methodology']\n",
      "The tool totally recommends document  7\n",
      "['methodology', 'methodology', 'methodology', 'methodology', 'methodology', 'methodology', 'methodology', 'methodology', 'methodology', 'methodology']\n",
      "The tool totally recommends document  8\n",
      "['methodology', 'methodology', 'methodology', 'methodology', 'methodology', 'approach']\n",
      "The tool does not recommend document  9\n",
      "[]\n",
      "The tool does not recommend document  10\n",
      "[]\n",
      "The tool partially recommends document 11\n",
      "['approach', 'techniques']\n",
      "The tool partially recommends document 12\n",
      "['approach']\n",
      "The tool totally recommends document  13\n",
      "['methodology', 'methodology', 'methodology']\n",
      "The tool does not recommend document  14\n",
      "[]\n",
      "The tool does not recommend document  15\n",
      "[]\n",
      "The tool does not recommend document  16\n",
      "[]\n",
      "The tool partially recommends document 17\n",
      "['methodology']\n",
      "The tool partially recommends document 18\n",
      "['approach']\n",
      "The tool does not recommend document  19\n",
      "[]\n",
      "The tool totally recommends document  20\n",
      "['methodology', 'methodology', 'methodology']\n",
      "The tool partially recommends document 21\n",
      "['techniques']\n",
      "The tool does not recommend document  22\n",
      "[]\n",
      "The tool does not recommend document  23\n",
      "[]\n",
      "The tool does not recommend document  24\n",
      "[]\n",
      "The tool totally recommends document  25\n",
      "['methodology', 'methodology', 'methodology', 'methodology', 'methodology', 'methodology', 'methodology']\n",
      "The tool partially recommends document 26\n",
      "['approach', 'approach']\n",
      "The tool partially recommends document 27\n",
      "['techniques']\n",
      "The tool does not recommend document  28\n",
      "[]\n"
     ]
    }
   ],
   "source": [
    "section = 'methods'\n",
    "result = termFrequency(QA2_Data, section)"
   ]
  },
  {
   "cell_type": "code",
   "execution_count": 93,
   "metadata": {},
   "outputs": [
    {
     "name": "stdout",
     "output_type": "stream",
     "text": [
      "The tool does not recommend document  1\n",
      "[]\n",
      "The tool partially recommends document 2\n",
      "['conclusions', 'conclusions']\n",
      "The tool does not recommend document  3\n",
      "[]\n",
      "The tool does not recommend document  4\n",
      "[]\n",
      "The tool partially recommends document 5\n",
      "['conclusions']\n",
      "The tool partially recommends document 6\n",
      "['conclusions']\n",
      "The tool partially recommends document 7\n",
      "['conclusions', 'conclusions']\n",
      "The tool does not recommend document  8\n",
      "[]\n",
      "The tool does not recommend document  9\n",
      "[]\n",
      "The tool does not recommend document  10\n",
      "[]\n",
      "The tool does not recommend document  11\n",
      "[]\n",
      "The tool does not recommend document  12\n",
      "[]\n",
      "The tool does not recommend document  13\n",
      "[]\n",
      "The tool does not recommend document  14\n",
      "[]\n",
      "The tool partially recommends document 15\n",
      "['discussions', 'conclusions']\n",
      "The tool partially recommends document 16\n",
      "['summary']\n",
      "The tool totally recommends document  17\n",
      "['discussions', 'summary', 'discussions']\n",
      "The tool totally recommends document  18\n",
      "['conclusions', 'conclusions', 'discussions']\n",
      "The tool does not recommend document  19\n",
      "[]\n",
      "The tool does not recommend document  20\n",
      "[]\n",
      "The tool does not recommend document  21\n",
      "[]\n",
      "The tool partially recommends document 22\n",
      "['conclusions']\n",
      "The tool does not recommend document  23\n",
      "[]\n",
      "The tool does not recommend document  24\n",
      "[]\n",
      "The tool partially recommends document 25\n",
      "['conclusions', 'conclusions']\n",
      "The tool does not recommend document  26\n",
      "[]\n",
      "The tool does not recommend document  27\n",
      "[]\n",
      "The tool partially recommends document 28\n",
      "['conclusions', 'conclusions']\n"
     ]
    }
   ],
   "source": [
    "section = 'conclusion'\n",
    "result = termFrequency(QA3_Data, section)"
   ]
  },
  {
   "cell_type": "code",
   "execution_count": null,
   "metadata": {},
   "outputs": [],
   "source": []
  }
 ],
 "metadata": {
  "kernelspec": {
   "display_name": "Python 3",
   "language": "python",
   "name": "python3"
  },
  "language_info": {
   "codemirror_mode": {
    "name": "ipython",
    "version": 3
   },
   "file_extension": ".py",
   "mimetype": "text/x-python",
   "name": "python",
   "nbconvert_exporter": "python",
   "pygments_lexer": "ipython3",
   "version": "3.8.1"
  }
 },
 "nbformat": 4,
 "nbformat_minor": 2
}
